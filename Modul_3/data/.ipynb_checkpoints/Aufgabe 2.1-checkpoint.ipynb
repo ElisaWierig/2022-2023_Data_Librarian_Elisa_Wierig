{
 "cells": [
  {
   "cell_type": "code",
   "execution_count": 22,
   "id": "bb36965d",
   "metadata": {},
   "outputs": [
    {
     "name": "stdout",
     "output_type": "stream",
     "text": [
      "<class 'pandas.core.frame.DataFrame'>\n",
      "RangeIndex: 437115 entries, 0 to 437114\n",
      "Data columns (total 14 columns):\n",
      " #   Column                        Non-Null Count   Dtype  \n",
      "---  ------                        --------------   -----  \n",
      " 0   Patron Type Code              437115 non-null  int64  \n",
      " 1   Patron Type Definition        437115 non-null  object \n",
      " 2   Total Checkouts               437115 non-null  int64  \n",
      " 3   Total Renewals                437115 non-null  int64  \n",
      " 4   Age Range                     436188 non-null  object \n",
      " 5   Home Library Code             437113 non-null  object \n",
      " 6   Home Library Definition       437115 non-null  object \n",
      " 7   Circulation Active Month      396523 non-null  object \n",
      " 8   Circulation Active Year       396523 non-null  float64\n",
      " 9   Notice Preference Code        437115 non-null  object \n",
      " 10  Notice Preference Definition  437115 non-null  object \n",
      " 11  Provided Email Address        437115 non-null  bool   \n",
      " 12  Year Patron Registered        437115 non-null  int64  \n",
      " 13  Within San Francisco County   437115 non-null  bool   \n",
      "dtypes: bool(2), float64(1), int64(4), object(7)\n",
      "memory usage: 40.9+ MB\n"
     ]
    }
   ],
   "source": [
    "import pandas as pd\n",
    "df = pd.read_csv('Library_Usage.csv')\n",
    "df.info()\n",
    "# 1. 14 Merkmale\n",
    "# 2. 437115 Stichprobengröße\n",
    "# 3. Kunden Merkmalsträger "
   ]
  },
  {
   "cell_type": "code",
   "execution_count": 24,
   "id": "abefa2c4",
   "metadata": {},
   "outputs": [
    {
     "name": "stderr",
     "output_type": "stream",
     "text": [
      "/tmp/ipykernel_2573/3962516015.py:1: FutureWarning: Dropping of nuisance columns in DataFrame reductions (with 'numeric_only=None') is deprecated; in a future version this will raise TypeError.  Select only valid columns before calling the reduction.\n",
      "  df.min()\n"
     ]
    },
    {
     "data": {
      "text/plain": [
       "Patron Type Code                     0\n",
       "Patron Type Definition           Adult\n",
       "Total Checkouts                      0\n",
       "Total Renewals                       0\n",
       "Home Library Definition           Anza\n",
       "Circulation Active Year         2004.0\n",
       "Notice Preference Code               -\n",
       "Notice Preference Definition     Email\n",
       "Provided Email Address           False\n",
       "Year Patron Registered            2003\n",
       "Within San Francisco County      False\n",
       "dtype: object"
      ]
     },
     "execution_count": 24,
     "metadata": {},
     "output_type": "execute_result"
    }
   ],
   "source": [
    "# 4. Von wann bis wann\n",
    "df.min()"
   ]
  },
  {
   "cell_type": "code",
   "execution_count": 26,
   "id": "efdbc99a",
   "metadata": {},
   "outputs": [
    {
     "name": "stderr",
     "output_type": "stream",
     "text": [
      "/tmp/ipykernel_2573/1151452817.py:1: FutureWarning: Dropping of nuisance columns in DataFrame reductions (with 'numeric_only=None') is deprecated; in a future version this will raise TypeError.  Select only valid columns before calling the reduction.\n",
      "  df.max()\n"
     ]
    },
    {
     "data": {
      "text/plain": [
       "Patron Type Code                             104\n",
       "Patron Type Definition                   Welcome\n",
       "Total Checkouts                            45380\n",
       "Total Renewals                             11321\n",
       "Home Library Definition         Western Addition\n",
       "Circulation Active Year                   2023.0\n",
       "Notice Preference Code                         z\n",
       "Notice Preference Definition               Print\n",
       "Provided Email Address                      True\n",
       "Year Patron Registered                      2022\n",
       "Within San Francisco County                 True\n",
       "dtype: object"
      ]
     },
     "execution_count": 26,
     "metadata": {},
     "output_type": "execute_result"
    }
   ],
   "source": [
    "df.max()"
   ]
  },
  {
   "cell_type": "code",
   "execution_count": null,
   "id": "93a0ec8b",
   "metadata": {},
   "outputs": [],
   "source": []
  }
 ],
 "metadata": {
  "kernelspec": {
   "display_name": "Python 3 (ipykernel)",
   "language": "python",
   "name": "python3"
  },
  "language_info": {
   "codemirror_mode": {
    "name": "ipython",
    "version": 3
   },
   "file_extension": ".py",
   "mimetype": "text/x-python",
   "name": "python",
   "nbconvert_exporter": "python",
   "pygments_lexer": "ipython3",
   "version": "3.9.13"
  }
 },
 "nbformat": 4,
 "nbformat_minor": 5
}
