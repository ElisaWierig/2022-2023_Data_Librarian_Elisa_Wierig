{
 "cells": [
  {
   "cell_type": "code",
   "execution_count": 4,
   "id": "8a6f4845",
   "metadata": {},
   "outputs": [
    {
     "data": {
      "text/plain": [
       "25 to 34 years       92790\n",
       "35 to 44 years       80477\n",
       "10 to 19 years       67320\n",
       "45 to 54 years       48752\n",
       "0 to 9 years         34642\n",
       "65 to 74 years       31906\n",
       "20 to 24 years       24484\n",
       "55 to 59 years       19281\n",
       "75 years and over    18872\n",
       "60 to 64 years       17664\n",
       "Name: Age Range, dtype: int64"
      ]
     },
     "execution_count": 4,
     "metadata": {},
     "output_type": "execute_result"
    }
   ],
   "source": [
    "import pandas as pd\n",
    "df = pd.read_csv(\"../data/Library_Usage.csv\")\n",
    "df['Age Range'].value_counts()\n",
    "# absolute Häufigkeit"
   ]
  },
  {
   "cell_type": "code",
   "execution_count": 5,
   "id": "4798f10b",
   "metadata": {},
   "outputs": [
    {
     "data": {
      "text/plain": [
       "25 to 34 years       0.212729\n",
       "35 to 44 years       0.184501\n",
       "10 to 19 years       0.154337\n",
       "45 to 54 years       0.111768\n",
       "0 to 9 years         0.079420\n",
       "65 to 74 years       0.073147\n",
       "20 to 24 years       0.056132\n",
       "55 to 59 years       0.044203\n",
       "75 years and over    0.043266\n",
       "60 to 64 years       0.040496\n",
       "Name: Age Range, dtype: float64"
      ]
     },
     "execution_count": 5,
     "metadata": {},
     "output_type": "execute_result"
    }
   ],
   "source": [
    "import pandas as pd\n",
    "df = pd.read_csv(\"../data/Library_Usage.csv\")\n",
    "df['Age Range'].value_counts(normalize=True)\n",
    "# relative Häufigkeit"
   ]
  },
  {
   "cell_type": "code",
   "execution_count": 6,
   "id": "fa5ad3a4",
   "metadata": {},
   "outputs": [
    {
     "data": {
      "text/plain": [
       "'25 to 34 years'"
      ]
     },
     "execution_count": 6,
     "metadata": {},
     "output_type": "execute_result"
    }
   ],
   "source": [
    "age_mode = df['Age Range'].mode()\n",
    "age_mode[0]\n",
    "# Modus mit meisten Merkmalsausprägungen"
   ]
  },
  {
   "cell_type": "code",
   "execution_count": null,
   "id": "ff8b6943",
   "metadata": {},
   "outputs": [],
   "source": []
  }
 ],
 "metadata": {
  "kernelspec": {
   "display_name": "Python 3 (ipykernel)",
   "language": "python",
   "name": "python3"
  },
  "language_info": {
   "codemirror_mode": {
    "name": "ipython",
    "version": 3
   },
   "file_extension": ".py",
   "mimetype": "text/x-python",
   "name": "python",
   "nbconvert_exporter": "python",
   "pygments_lexer": "ipython3",
   "version": "3.9.13"
  }
 },
 "nbformat": 4,
 "nbformat_minor": 5
}
