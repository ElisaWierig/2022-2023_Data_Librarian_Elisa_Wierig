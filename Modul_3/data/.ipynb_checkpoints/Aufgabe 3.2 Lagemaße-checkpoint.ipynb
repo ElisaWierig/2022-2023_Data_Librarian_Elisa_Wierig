{
 "cells": [
  {
   "cell_type": "code",
   "execution_count": 1,
   "id": "51c706d3",
   "metadata": {},
   "outputs": [
    {
     "data": {
      "text/plain": [
       "161.08505542019836"
      ]
     },
     "execution_count": 1,
     "metadata": {},
     "output_type": "execute_result"
    }
   ],
   "source": [
    "import pandas as pd\n",
    "df = pd.read_csv(\"../data/Library_Usage.csv\")\n",
    "df['Total Checkouts'].mean()\n",
    "# Mittelwert"
   ]
  },
  {
   "cell_type": "code",
   "execution_count": 2,
   "id": "8f2add98",
   "metadata": {},
   "outputs": [
    {
     "data": {
      "text/plain": [
       "7.0"
      ]
     },
     "execution_count": 2,
     "metadata": {},
     "output_type": "execute_result"
    }
   ],
   "source": [
    "df['Total Checkouts'].median()\n",
    "# Median"
   ]
  },
  {
   "cell_type": "code",
   "execution_count": 3,
   "id": "b3bfb532",
   "metadata": {},
   "outputs": [
    {
     "data": {
      "text/plain": [
       "0.25     0.0\n",
       "0.50     7.0\n",
       "0.75    81.0\n",
       "Name: Total Checkouts, dtype: float64"
      ]
     },
     "execution_count": 3,
     "metadata": {},
     "output_type": "execute_result"
    }
   ],
   "source": [
    "df['Total Checkouts'].quantile(q=[0.25, 0.5, 0.75])\n",
    "# Quantile"
   ]
  },
  {
   "cell_type": "code",
   "execution_count": 5,
   "id": "2d144484",
   "metadata": {},
   "outputs": [
    {
     "data": {
      "text/plain": [
       "0.005       0.0\n",
       "0.995    3313.0\n",
       "Name: Total Checkouts, dtype: float64"
      ]
     },
     "execution_count": 5,
     "metadata": {},
     "output_type": "execute_result"
    }
   ],
   "source": [
    "alpha = 0.005\n",
    "df['Total Checkouts'].quantile(q=[alpha, 1-alpha])\n",
    "# identifies 0.5% of the data at both ends of the distribution"
   ]
  }
 ],
 "metadata": {
  "kernelspec": {
   "display_name": "Python 3 (ipykernel)",
   "language": "python",
   "name": "python3"
  },
  "language_info": {
   "codemirror_mode": {
    "name": "ipython",
    "version": 3
   },
   "file_extension": ".py",
   "mimetype": "text/x-python",
   "name": "python",
   "nbconvert_exporter": "python",
   "pygments_lexer": "ipython3",
   "version": "3.9.13"
  }
 },
 "nbformat": 4,
 "nbformat_minor": 5
}
