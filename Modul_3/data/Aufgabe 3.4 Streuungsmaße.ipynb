{
 "cells": [
  {
   "cell_type": "code",
   "execution_count": 1,
   "id": "5b844747",
   "metadata": {},
   "outputs": [
    {
     "data": {
      "text/plain": [
       "284652.31213568215"
      ]
     },
     "execution_count": 1,
     "metadata": {},
     "output_type": "execute_result"
    }
   ],
   "source": [
    "import pandas as pd\n",
    "df = pd.read_csv('Library_Usage.csv')\n",
    "df['Total Checkouts'].var()\n",
    "# Varianz"
   ]
  },
  {
   "cell_type": "code",
   "execution_count": 2,
   "id": "026dee5d",
   "metadata": {},
   "outputs": [
    {
     "data": {
      "text/plain": [
       "533.5281737037718"
      ]
     },
     "execution_count": 2,
     "metadata": {},
     "output_type": "execute_result"
    }
   ],
   "source": [
    "df['Total Checkouts'].std()\n",
    "# Standardabweichung: Wurzel der Varianz"
   ]
  },
  {
   "cell_type": "code",
   "execution_count": 3,
   "id": "38c1d01a",
   "metadata": {},
   "outputs": [
    {
     "data": {
      "text/plain": [
       "296.74080421893774"
      ]
     },
     "execution_count": 3,
     "metadata": {},
     "output_type": "execute_result"
    }
   ],
   "source": [
    "df['Total Renewals'].std()"
   ]
  },
  {
   "cell_type": "code",
   "execution_count": 4,
   "id": "7fdd2812",
   "metadata": {},
   "outputs": [
    {
     "data": {
      "text/plain": [
       "45380"
      ]
     },
     "execution_count": 4,
     "metadata": {},
     "output_type": "execute_result"
    }
   ],
   "source": [
    "df['Total Checkouts'].max() - df['Total Checkouts'].min()\n",
    "# Spannweite: Differenz zwischen minimalen und maximalen Wert"
   ]
  },
  {
   "cell_type": "code",
   "execution_count": 5,
   "id": "97214e38",
   "metadata": {},
   "outputs": [
    {
     "data": {
      "text/plain": [
       "81.0"
      ]
     },
     "execution_count": 5,
     "metadata": {},
     "output_type": "execute_result"
    }
   ],
   "source": [
    "df['Total Checkouts'].quantile(q=0.75) - df['Total Checkouts'].quantile(q=0.25)\n",
    "# Interquartilsabstand"
   ]
  }
 ],
 "metadata": {
  "kernelspec": {
   "display_name": "Python 3 (ipykernel)",
   "language": "python",
   "name": "python3"
  },
  "language_info": {
   "codemirror_mode": {
    "name": "ipython",
    "version": 3
   },
   "file_extension": ".py",
   "mimetype": "text/x-python",
   "name": "python",
   "nbconvert_exporter": "python",
   "pygments_lexer": "ipython3",
   "version": "3.9.13"
  }
 },
 "nbformat": 4,
 "nbformat_minor": 5
}
