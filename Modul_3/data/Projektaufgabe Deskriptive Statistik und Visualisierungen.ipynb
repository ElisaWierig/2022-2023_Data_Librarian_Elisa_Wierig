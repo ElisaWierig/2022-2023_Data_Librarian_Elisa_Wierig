{
 "cells": [
  {
   "cell_type": "code",
   "execution_count": 1,
   "id": "60185752",
   "metadata": {},
   "outputs": [],
   "source": [
    "import pandas as pd\n",
    "import matplotlib.pyplot as plt\n",
    "import seaborn as sns\n",
    "import numpy as np\n",
    "%matplotlib inline\n",
    "sns.set()"
   ]
  },
  {
   "cell_type": "code",
   "execution_count": 2,
   "id": "5963a285",
   "metadata": {},
   "outputs": [],
   "source": [
    "df = pd.read_csv(\n",
    "    \"../data/Library_Usage.csv\",\n",
    "    na_values=\"none\")"
   ]
  },
  {
   "cell_type": "code",
   "execution_count": 3,
   "id": "3e8266a4",
   "metadata": {},
   "outputs": [
    {
     "data": {
      "text/html": [
       "<div>\n",
       "<style scoped>\n",
       "    .dataframe tbody tr th:only-of-type {\n",
       "        vertical-align: middle;\n",
       "    }\n",
       "\n",
       "    .dataframe tbody tr th {\n",
       "        vertical-align: top;\n",
       "    }\n",
       "\n",
       "    .dataframe thead th {\n",
       "        text-align: right;\n",
       "    }\n",
       "</style>\n",
       "<table border=\"1\" class=\"dataframe\">\n",
       "  <thead>\n",
       "    <tr style=\"text-align: right;\">\n",
       "      <th></th>\n",
       "      <th>Patron Type Code</th>\n",
       "      <th>Patron Type Definition</th>\n",
       "      <th>Total Checkouts</th>\n",
       "      <th>Total Renewals</th>\n",
       "      <th>Age Range</th>\n",
       "      <th>Home Library Code</th>\n",
       "      <th>Home Library Definition</th>\n",
       "      <th>Circulation Active Month</th>\n",
       "      <th>Circulation Active Year</th>\n",
       "      <th>Notice Preference Code</th>\n",
       "      <th>Notice Preference Definition</th>\n",
       "      <th>Provided Email Address</th>\n",
       "      <th>Year Patron Registered</th>\n",
       "      <th>Within San Francisco County</th>\n",
       "    </tr>\n",
       "  </thead>\n",
       "  <tbody>\n",
       "    <tr>\n",
       "      <th>0</th>\n",
       "      <td>1</td>\n",
       "      <td>Juvenile</td>\n",
       "      <td>0</td>\n",
       "      <td>0</td>\n",
       "      <td>0 to 9 years</td>\n",
       "      <td>r3</td>\n",
       "      <td>Richmond</td>\n",
       "      <td>NaN</td>\n",
       "      <td>NaN</td>\n",
       "      <td>z</td>\n",
       "      <td>Email</td>\n",
       "      <td>True</td>\n",
       "      <td>2022</td>\n",
       "      <td>True</td>\n",
       "    </tr>\n",
       "    <tr>\n",
       "      <th>1</th>\n",
       "      <td>2</td>\n",
       "      <td>Teen</td>\n",
       "      <td>0</td>\n",
       "      <td>0</td>\n",
       "      <td>10 to 19 years</td>\n",
       "      <td>x</td>\n",
       "      <td>Main</td>\n",
       "      <td>NaN</td>\n",
       "      <td>NaN</td>\n",
       "      <td>z</td>\n",
       "      <td>Email</td>\n",
       "      <td>True</td>\n",
       "      <td>2022</td>\n",
       "      <td>True</td>\n",
       "    </tr>\n",
       "    <tr>\n",
       "      <th>2</th>\n",
       "      <td>0</td>\n",
       "      <td>Adult</td>\n",
       "      <td>0</td>\n",
       "      <td>0</td>\n",
       "      <td>35 to 44 years</td>\n",
       "      <td>m4</td>\n",
       "      <td>Merced</td>\n",
       "      <td>NaN</td>\n",
       "      <td>NaN</td>\n",
       "      <td>z</td>\n",
       "      <td>Email</td>\n",
       "      <td>True</td>\n",
       "      <td>2019</td>\n",
       "      <td>True</td>\n",
       "    </tr>\n",
       "    <tr>\n",
       "      <th>3</th>\n",
       "      <td>2</td>\n",
       "      <td>Teen</td>\n",
       "      <td>0</td>\n",
       "      <td>0</td>\n",
       "      <td>10 to 19 years</td>\n",
       "      <td>x</td>\n",
       "      <td>Main</td>\n",
       "      <td>NaN</td>\n",
       "      <td>NaN</td>\n",
       "      <td>z</td>\n",
       "      <td>Email</td>\n",
       "      <td>True</td>\n",
       "      <td>2021</td>\n",
       "      <td>True</td>\n",
       "    </tr>\n",
       "    <tr>\n",
       "      <th>4</th>\n",
       "      <td>2</td>\n",
       "      <td>Teen</td>\n",
       "      <td>0</td>\n",
       "      <td>0</td>\n",
       "      <td>10 to 19 years</td>\n",
       "      <td>b2</td>\n",
       "      <td>Bayview</td>\n",
       "      <td>NaN</td>\n",
       "      <td>NaN</td>\n",
       "      <td>z</td>\n",
       "      <td>Email</td>\n",
       "      <td>True</td>\n",
       "      <td>2013</td>\n",
       "      <td>True</td>\n",
       "    </tr>\n",
       "  </tbody>\n",
       "</table>\n",
       "</div>"
      ],
      "text/plain": [
       "   Patron Type Code Patron Type Definition  Total Checkouts  Total Renewals  \\\n",
       "0                 1               Juvenile                0               0   \n",
       "1                 2                   Teen                0               0   \n",
       "2                 0                  Adult                0               0   \n",
       "3                 2                   Teen                0               0   \n",
       "4                 2                   Teen                0               0   \n",
       "\n",
       "        Age Range Home Library Code Home Library Definition  \\\n",
       "0    0 to 9 years                r3                Richmond   \n",
       "1  10 to 19 years                 x                    Main   \n",
       "2  35 to 44 years                m4                  Merced   \n",
       "3  10 to 19 years                 x                    Main   \n",
       "4  10 to 19 years                b2                 Bayview   \n",
       "\n",
       "  Circulation Active Month  Circulation Active Year Notice Preference Code  \\\n",
       "0                      NaN                      NaN                      z   \n",
       "1                      NaN                      NaN                      z   \n",
       "2                      NaN                      NaN                      z   \n",
       "3                      NaN                      NaN                      z   \n",
       "4                      NaN                      NaN                      z   \n",
       "\n",
       "  Notice Preference Definition  Provided Email Address  \\\n",
       "0                        Email                    True   \n",
       "1                        Email                    True   \n",
       "2                        Email                    True   \n",
       "3                        Email                    True   \n",
       "4                        Email                    True   \n",
       "\n",
       "   Year Patron Registered  Within San Francisco County  \n",
       "0                    2022                         True  \n",
       "1                    2022                         True  \n",
       "2                    2019                         True  \n",
       "3                    2021                         True  \n",
       "4                    2013                         True  "
      ]
     },
     "execution_count": 3,
     "metadata": {},
     "output_type": "execute_result"
    }
   ],
   "source": [
    "df.head()"
   ]
  },
  {
   "cell_type": "markdown",
   "id": "cf2c6ff0",
   "metadata": {},
   "source": [
    "# Wie viele junge Erwachsene und Senioren möchten auf welchem Weg benachrichtigt werden?"
   ]
  },
  {
   "cell_type": "code",
   "execution_count": 4,
   "id": "11d8e702",
   "metadata": {},
   "outputs": [
    {
     "data": {
      "text/plain": [
       "Adult                  271588\n",
       "Juvenile                58767\n",
       "Senior                  47366\n",
       "Teen                    40340\n",
       "Welcome                 10587\n",
       "Digital Access Card      3707\n",
       "Teacher Card             3161\n",
       "Staff                     808\n",
       "Retired Staff             209\n",
       "At User Adult             128\n",
       "Library By Mail           117\n",
       "Visitor                   111\n",
       "Bibliocommons             109\n",
       "At User Senior             76\n",
       "At User Welcome            14\n",
       "At User Teen               10\n",
       "At User Juvenile            9\n",
       "Business                    8\n",
       "Name: Patron Type Definition, dtype: int64"
      ]
     },
     "execution_count": 4,
     "metadata": {},
     "output_type": "execute_result"
    }
   ],
   "source": [
    "df['Patron Type Definition'].value_counts()"
   ]
  },
  {
   "cell_type": "code",
   "execution_count": 5,
   "id": "304cb432",
   "metadata": {},
   "outputs": [],
   "source": [
    "Mail = df.loc[\n",
    "    (df['Patron Type Definition'] == 'Juvenile') |\n",
    "    (df['Patron Type Definition'] == 'Senior')\n",
    "]"
   ]
  },
  {
   "cell_type": "code",
   "execution_count": 6,
   "id": "9d72d9cd",
   "metadata": {},
   "outputs": [
    {
     "data": {
      "image/png": "[encoded data removed]",
      "text/plain": [
       "<Figure size 746.472x500 with 1 Axes>"
      ]
     },
     "metadata": {},
     "output_type": "display_data"
    }
   ],
   "source": [
    "sns.catplot(x = 'Patron Type Definition', kind = 'count', hue = 'Notice Preference Definition', data = Mail, aspect = 1, palette=sns.color_palette('rocket', 4))\n",
    "plt.title('Angabe Benachrichtigungspräferenzen')\n",
    "plt.xlabel('Altersgruppe')\n",
    "plt.ylabel('Anzahl Personen')\n",
    "plt.show()"
   ]
  },
  {
   "cell_type": "code",
   "execution_count": 7,
   "id": "d9f031c1",
   "metadata": {},
   "outputs": [
    {
     "data": {
      "text/html": [
       "<div>\n",
       "<style scoped>\n",
       "    .dataframe tbody tr th:only-of-type {\n",
       "        vertical-align: middle;\n",
       "    }\n",
       "\n",
       "    .dataframe tbody tr th {\n",
       "        vertical-align: top;\n",
       "    }\n",
       "\n",
       "    .dataframe thead th {\n",
       "        text-align: right;\n",
       "    }\n",
       "</style>\n",
       "<table border=\"1\" class=\"dataframe\">\n",
       "  <thead>\n",
       "    <tr style=\"text-align: right;\">\n",
       "      <th>Patron Type Definition</th>\n",
       "      <th>Juvenile</th>\n",
       "      <th>Senior</th>\n",
       "    </tr>\n",
       "    <tr>\n",
       "      <th>Notice Preference Definition</th>\n",
       "      <th></th>\n",
       "      <th></th>\n",
       "    </tr>\n",
       "  </thead>\n",
       "  <tbody>\n",
       "    <tr>\n",
       "      <th>Email</th>\n",
       "      <td>49063</td>\n",
       "      <td>38529</td>\n",
       "    </tr>\n",
       "    <tr>\n",
       "      <th>None</th>\n",
       "      <td>885</td>\n",
       "      <td>105</td>\n",
       "    </tr>\n",
       "    <tr>\n",
       "      <th>Phone</th>\n",
       "      <td>7280</td>\n",
       "      <td>7577</td>\n",
       "    </tr>\n",
       "    <tr>\n",
       "      <th>Print</th>\n",
       "      <td>1539</td>\n",
       "      <td>1155</td>\n",
       "    </tr>\n",
       "  </tbody>\n",
       "</table>\n",
       "</div>"
      ],
      "text/plain": [
       "Patron Type Definition        Juvenile  Senior\n",
       "Notice Preference Definition                  \n",
       "Email                            49063   38529\n",
       "None                               885     105\n",
       "Phone                             7280    7577\n",
       "Print                             1539    1155"
      ]
     },
     "execution_count": 7,
     "metadata": {},
     "output_type": "execute_result"
    }
   ],
   "source": [
    "pd.crosstab(\n",
    "    Mail['Notice Preference Definition'],\n",
    "    Mail['Patron Type Definition'])"
   ]
  },
  {
   "cell_type": "markdown",
   "id": "18346613",
   "metadata": {},
   "source": [
    "### Wie viel Prozent der o.g. Altersgruppen möchten wie benachrichtigt werden?"
   ]
  },
  {
   "cell_type": "code",
   "execution_count": 8,
   "id": "49965c98",
   "metadata": {},
   "outputs": [
    {
     "data": {
      "text/html": [
       "<div>\n",
       "<style scoped>\n",
       "    .dataframe tbody tr th:only-of-type {\n",
       "        vertical-align: middle;\n",
       "    }\n",
       "\n",
       "    .dataframe tbody tr th {\n",
       "        vertical-align: top;\n",
       "    }\n",
       "\n",
       "    .dataframe thead th {\n",
       "        text-align: right;\n",
       "    }\n",
       "</style>\n",
       "<table border=\"1\" class=\"dataframe\">\n",
       "  <thead>\n",
       "    <tr style=\"text-align: right;\">\n",
       "      <th>Patron Type Definition</th>\n",
       "      <th>Juvenile</th>\n",
       "      <th>Senior</th>\n",
       "      <th>All</th>\n",
       "    </tr>\n",
       "    <tr>\n",
       "      <th>Notice Preference Definition</th>\n",
       "      <th></th>\n",
       "      <th></th>\n",
       "      <th></th>\n",
       "    </tr>\n",
       "  </thead>\n",
       "  <tbody>\n",
       "    <tr>\n",
       "      <th>Email</th>\n",
       "      <td>0.834873</td>\n",
       "      <td>0.813432</td>\n",
       "      <td>0.825304</td>\n",
       "    </tr>\n",
       "    <tr>\n",
       "      <th>None</th>\n",
       "      <td>0.015059</td>\n",
       "      <td>0.002217</td>\n",
       "      <td>0.009328</td>\n",
       "    </tr>\n",
       "    <tr>\n",
       "      <th>Phone</th>\n",
       "      <td>0.123879</td>\n",
       "      <td>0.159967</td>\n",
       "      <td>0.139985</td>\n",
       "    </tr>\n",
       "    <tr>\n",
       "      <th>Print</th>\n",
       "      <td>0.026188</td>\n",
       "      <td>0.024385</td>\n",
       "      <td>0.025383</td>\n",
       "    </tr>\n",
       "  </tbody>\n",
       "</table>\n",
       "</div>"
      ],
      "text/plain": [
       "Patron Type Definition        Juvenile    Senior       All\n",
       "Notice Preference Definition                              \n",
       "Email                         0.834873  0.813432  0.825304\n",
       "None                          0.015059  0.002217  0.009328\n",
       "Phone                         0.123879  0.159967  0.139985\n",
       "Print                         0.026188  0.024385  0.025383"
      ]
     },
     "execution_count": 8,
     "metadata": {},
     "output_type": "execute_result"
    }
   ],
   "source": [
    "pd.crosstab(\n",
    "    Mail['Notice Preference Definition'],\n",
    "    Mail['Patron Type Definition'],\n",
    "    margins=True, normalize=1\n",
    ")"
   ]
  },
  {
   "cell_type": "markdown",
   "id": "248bb7ac",
   "metadata": {},
   "source": [
    "### Von den jungen Erwachsenen möchten \n",
    "83,5% per Mail, 1,5% gar nicht, 12,4% per Telefon, 2,6% per Post benachrichtigt werden.\n",
    "\n",
    "### Von den Senioren möchten\n",
    "81,3 % per Mail, 0,2% gar nicht, 16% per Telefon, 2,3% per Post benachrichtigt werden.\n",
    "\n",
    "Beide Altersgruppen haben ähnliche Präferenzen."
   ]
  },
  {
   "cell_type": "markdown",
   "id": "4f75f883",
   "metadata": {},
   "source": [
    "# Mittelwert der Ausleihen von Teenagern, jungen Erwachsenen, Erwachsenen und Senioren"
   ]
  },
  {
   "cell_type": "code",
   "execution_count": 9,
   "id": "8cbca252",
   "metadata": {},
   "outputs": [
    {
     "name": "stdout",
     "output_type": "stream",
     "text": [
      "['Juvenile' 'Teen' 'Adult' 'Senior' 'Welcome' 'Digital Access Card'\n",
      " 'Bibliocommons' 'Teacher Card' 'Library By Mail' 'Staff' 'At User Senior'\n",
      " 'At User Adult' 'Visitor' 'Retired Staff' 'At User Welcome'\n",
      " 'At User Juvenile' 'Business' 'At User Teen']\n"
     ]
    }
   ],
   "source": [
    "print(df['Patron Type Definition'].unique())"
   ]
  },
  {
   "cell_type": "code",
   "execution_count": 10,
   "id": "88fc22d9",
   "metadata": {},
   "outputs": [
    {
     "name": "stdout",
     "output_type": "stream",
     "text": [
      "['Juvenile' 'Teen' 'Adult' 'Senior']\n"
     ]
    }
   ],
   "source": [
    "categories = ['Teen', 'Juvenile', 'Adult', 'Senior']\n",
    "cleaned = df[df['Patron Type Definition'].isin(categories)]\n",
    "print(cleaned['Patron Type Definition'].unique())"
   ]
  },
  {
   "cell_type": "code",
   "execution_count": 11,
   "id": "e52ef368",
   "metadata": {},
   "outputs": [
    {
     "name": "stdout",
     "output_type": "stream",
     "text": [
      "Category: Teen\n",
      "Min: 0\n",
      "Max: 8366\n",
      "Mean: 235.11224590976698\n",
      "Category: Juvenile\n",
      "Min: 0\n",
      "Max: 6805\n",
      "Mean: 106.27399731141627\n",
      "Category: Adult\n",
      "Min: 0\n",
      "Max: 45380\n",
      "Mean: 125.74494454836001\n",
      "Category: Senior\n",
      "Min: 0\n",
      "Max: 22474\n",
      "Mean: 392.55107038804204\n"
     ]
    }
   ],
   "source": [
    "categories = ['Teen', 'Juvenile', 'Adult', 'Senior']\n",
    "for i, category in enumerate(categories):\n",
    "    group = df.groupby('Patron Type Definition').get_group(category)\n",
    "    print('Category: ' + category)\n",
    "    print('Min: %s' % group['Total Checkouts'].min())\n",
    "    print('Max: %s' % group['Total Checkouts'].max())\n",
    "    print('Mean: %s' % group['Total Checkouts'].mean())"
   ]
  },
  {
   "cell_type": "code",
   "execution_count": 12,
   "id": "63576855",
   "metadata": {},
   "outputs": [
    {
     "name": "stdout",
     "output_type": "stream",
     "text": [
      "                        Mittelwerte\n",
      "Patron Type Definition             \n",
      "Adult                    125.744945\n",
      "Juvenile                 106.273997\n",
      "Senior                   392.551070\n",
      "Teen                     235.112246\n"
     ]
    }
   ],
   "source": [
    "mittelwerte = cleaned.groupby('Patron Type Definition')['Total Checkouts'].agg(Mittelwerte=('mean'))\n",
    "print(mittelwerte)"
   ]
  },
  {
   "cell_type": "code",
   "execution_count": 13,
   "id": "ecbca8a2",
   "metadata": {},
   "outputs": [
    {
     "data": {
      "image/png": "[encoded data removed]",
      "text/plain": [
       "<Figure size 640x480 with 1 Axes>"
      ]
     },
     "metadata": {},
     "output_type": "display_data"
    }
   ],
   "source": [
    "barplot = sns.barplot(data=cleaned, x='Patron Type Definition', y='Total Checkouts', order=categories, palette=sns.color_palette('pastel', 4))\n",
    "plt.xlabel('Altersgruppe')\n",
    "plt.ylabel('Durchschnittliche Ausleihen')\n",
    "plt.title('Durchschnittliche Ausleihen nach Altersgruppe')\n",
    "plt.show(barplot)"
   ]
  },
  {
   "cell_type": "markdown",
   "id": "3b47ca05",
   "metadata": {},
   "source": [
    "### \n",
    "Die Mittelwerte sind in diesem Bsp. nicht sonderlich aussagekräftig, da es extrem große Standardfehler gibt. (s. Senior max.: 22474, Adult max.: 45380, Juvenile max.: 6805, Teen max.: 8366)\n",
    "\n",
    "### Wie erkenne ich die Streuung?"
   ]
  },
  {
   "attachments": {},
   "cell_type": "markdown",
   "id": "14acdffb",
   "metadata": {},
   "source": [
    "#### [AL] Der Mittelwert ist so erstmal nicht aussagekräftig, weil der Vergleich der Gruppen schwierig ist. Die einzelnen Nutzungsvorgänge beziehen sich auf Nutzer, die unterschiedlich lange Bibliotheksnutzer sind. D.h. ein Nutzer, der schon über 10 Jahre aktiver Bibliotheksnutzer ist, wird automatisch mehr Nutzungen haben, als ein Nutzer, der erst seit einem Jahr aktiv ist. D.h. Du müsstest, um einen aussagekräftigen Mittelwert zu bekommen, die Fragestellung verändern bzw. die Grundmenge normalisieren. Also z.B. die durchschnittliche Ausleihzahl pro Jahr betrachten und hier über die verschiedenen Nutzergruppen schauen (vgl. Year Patron Registered und Circulation Active Year). Auch wäre die Nutzung der Quantile sinnvoll."
   ]
  },
  {
   "cell_type": "code",
   "execution_count": 14,
   "id": "35486108",
   "metadata": {},
   "outputs": [
    {
     "data": {
      "image/png": "[encoded data removed]",
      "text/plain": [
       "<Figure size 640x480 with 1 Axes>"
      ]
     },
     "metadata": {},
     "output_type": "display_data"
    }
   ],
   "source": [
    "sns.boxplot(data=cleaned, x= 'Patron Type Definition', y='Total Checkouts')\n",
    "plt.xlabel('Altersgruppe')\n",
    "plt.ylabel('Ausleihen')\n",
    "plt.title('Durchschnittliche Ausleihen nach Altersgruppe')\n",
    "plt.show()"
   ]
  },
  {
   "cell_type": "markdown",
   "id": "0949cb06",
   "metadata": {},
   "source": [
    "### \n",
    "Die horizontalen Linien knapp oberhalb der Linie 0 zeigen den oben berechneten Mittelwert. Hierbei ist gut zu erkennen, dass relativ viele Nutzer:innen pro Altersgruppe vom Mittelwert abweichen, wodurch der Mittelwert nicht aussagekräftig wird. "
   ]
  },
  {
   "attachments": {},
   "cell_type": "markdown",
   "id": "b874adfc",
   "metadata": {},
   "source": [
    "#### [AL] wie oben beschrieben, liegt das daran, dass die Fragestellung, die Du stellst über den Mittelwert der Gruppen nicht sinnvoll zu beantworten sind."
   ]
  }
 ],
 "metadata": {
  "kernelspec": {
   "display_name": "Python 3 (ipykernel)",
   "language": "python",
   "name": "python3"
  },
  "language_info": {
   "codemirror_mode": {
    "name": "ipython",
    "version": 3
   },
   "file_extension": ".py",
   "mimetype": "text/x-python",
   "name": "python",
   "nbconvert_exporter": "python",
   "pygments_lexer": "ipython3",
   "version": "3.9.13"
  }
 },
 "nbformat": 4,
 "nbformat_minor": 5
}
