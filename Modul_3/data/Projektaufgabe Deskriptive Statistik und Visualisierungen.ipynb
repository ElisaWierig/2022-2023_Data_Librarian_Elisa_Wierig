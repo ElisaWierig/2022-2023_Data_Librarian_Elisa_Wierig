{
 "cells": [
  {
   "cell_type": "code",
   "execution_count": 4,
   "id": "60185752",
   "metadata": {},
   "outputs": [],
   "source": [
    "import pandas as pd\n",
    "import matplotlib.pyplot as plt\n",
    "import seaborn as sns\n",
    "import numpy as np\n",
    "%matplotlib inline\n",
    "sns.set()"
   ]
  },
  {
   "cell_type": "code",
   "execution_count": 5,
   "id": "5963a285",
   "metadata": {},
   "outputs": [],
   "source": [
    "df = pd.read_csv(\n",
    "    \"../data/Library_Usage.csv\",\n",
    "    na_values=\"none\")"
   ]
  },
  {
   "cell_type": "code",
   "execution_count": 6,
   "id": "3e8266a4",
   "metadata": {},
   "outputs": [
    {
     "data": {
      "text/html": [
       "<div>\n",
       "<style scoped>\n",
       "    .dataframe tbody tr th:only-of-type {\n",
       "        vertical-align: middle;\n",
       "    }\n",
       "\n",
       "    .dataframe tbody tr th {\n",
       "        vertical-align: top;\n",
       "    }\n",
       "\n",
       "    .dataframe thead th {\n",
       "        text-align: right;\n",
       "    }\n",
       "</style>\n",
       "<table border=\"1\" class=\"dataframe\">\n",
       "  <thead>\n",
       "    <tr style=\"text-align: right;\">\n",
       "      <th></th>\n",
       "      <th>Patron Type Code</th>\n",
       "      <th>Patron Type Definition</th>\n",
       "      <th>Total Checkouts</th>\n",
       "      <th>Total Renewals</th>\n",
       "      <th>Age Range</th>\n",
       "      <th>Home Library Code</th>\n",
       "      <th>Home Library Definition</th>\n",
       "      <th>Circulation Active Month</th>\n",
       "      <th>Circulation Active Year</th>\n",
       "      <th>Notice Preference Code</th>\n",
       "      <th>Notice Preference Definition</th>\n",
       "      <th>Provided Email Address</th>\n",
       "      <th>Year Patron Registered</th>\n",
       "      <th>Within San Francisco County</th>\n",
       "    </tr>\n",
       "  </thead>\n",
       "  <tbody>\n",
       "    <tr>\n",
       "      <th>0</th>\n",
       "      <td>1</td>\n",
       "      <td>Juvenile</td>\n",
       "      <td>0</td>\n",
       "      <td>0</td>\n",
       "      <td>0 to 9 years</td>\n",
       "      <td>r3</td>\n",
       "      <td>Richmond</td>\n",
       "      <td>NaN</td>\n",
       "      <td>NaN</td>\n",
       "      <td>z</td>\n",
       "      <td>Email</td>\n",
       "      <td>True</td>\n",
       "      <td>2022</td>\n",
       "      <td>True</td>\n",
       "    </tr>\n",
       "    <tr>\n",
       "      <th>1</th>\n",
       "      <td>2</td>\n",
       "      <td>Teen</td>\n",
       "      <td>0</td>\n",
       "      <td>0</td>\n",
       "      <td>10 to 19 years</td>\n",
       "      <td>x</td>\n",
       "      <td>Main</td>\n",
       "      <td>NaN</td>\n",
       "      <td>NaN</td>\n",
       "      <td>z</td>\n",
       "      <td>Email</td>\n",
       "      <td>True</td>\n",
       "      <td>2022</td>\n",
       "      <td>True</td>\n",
       "    </tr>\n",
       "    <tr>\n",
       "      <th>2</th>\n",
       "      <td>0</td>\n",
       "      <td>Adult</td>\n",
       "      <td>0</td>\n",
       "      <td>0</td>\n",
       "      <td>35 to 44 years</td>\n",
       "      <td>m4</td>\n",
       "      <td>Merced</td>\n",
       "      <td>NaN</td>\n",
       "      <td>NaN</td>\n",
       "      <td>z</td>\n",
       "      <td>Email</td>\n",
       "      <td>True</td>\n",
       "      <td>2019</td>\n",
       "      <td>True</td>\n",
       "    </tr>\n",
       "    <tr>\n",
       "      <th>3</th>\n",
       "      <td>2</td>\n",
       "      <td>Teen</td>\n",
       "      <td>0</td>\n",
       "      <td>0</td>\n",
       "      <td>10 to 19 years</td>\n",
       "      <td>x</td>\n",
       "      <td>Main</td>\n",
       "      <td>NaN</td>\n",
       "      <td>NaN</td>\n",
       "      <td>z</td>\n",
       "      <td>Email</td>\n",
       "      <td>True</td>\n",
       "      <td>2021</td>\n",
       "      <td>True</td>\n",
       "    </tr>\n",
       "    <tr>\n",
       "      <th>4</th>\n",
       "      <td>2</td>\n",
       "      <td>Teen</td>\n",
       "      <td>0</td>\n",
       "      <td>0</td>\n",
       "      <td>10 to 19 years</td>\n",
       "      <td>b2</td>\n",
       "      <td>Bayview</td>\n",
       "      <td>NaN</td>\n",
       "      <td>NaN</td>\n",
       "      <td>z</td>\n",
       "      <td>Email</td>\n",
       "      <td>True</td>\n",
       "      <td>2013</td>\n",
       "      <td>True</td>\n",
       "    </tr>\n",
       "  </tbody>\n",
       "</table>\n",
       "</div>"
      ],
      "text/plain": [
       "   Patron Type Code Patron Type Definition  Total Checkouts  Total Renewals  \\\n",
       "0                 1               Juvenile                0               0   \n",
       "1                 2                   Teen                0               0   \n",
       "2                 0                  Adult                0               0   \n",
       "3                 2                   Teen                0               0   \n",
       "4                 2                   Teen                0               0   \n",
       "\n",
       "        Age Range Home Library Code Home Library Definition  \\\n",
       "0    0 to 9 years                r3                Richmond   \n",
       "1  10 to 19 years                 x                    Main   \n",
       "2  35 to 44 years                m4                  Merced   \n",
       "3  10 to 19 years                 x                    Main   \n",
       "4  10 to 19 years                b2                 Bayview   \n",
       "\n",
       "  Circulation Active Month  Circulation Active Year Notice Preference Code  \\\n",
       "0                      NaN                      NaN                      z   \n",
       "1                      NaN                      NaN                      z   \n",
       "2                      NaN                      NaN                      z   \n",
       "3                      NaN                      NaN                      z   \n",
       "4                      NaN                      NaN                      z   \n",
       "\n",
       "  Notice Preference Definition  Provided Email Address  \\\n",
       "0                        Email                    True   \n",
       "1                        Email                    True   \n",
       "2                        Email                    True   \n",
       "3                        Email                    True   \n",
       "4                        Email                    True   \n",
       "\n",
       "   Year Patron Registered  Within San Francisco County  \n",
       "0                    2022                         True  \n",
       "1                    2022                         True  \n",
       "2                    2019                         True  \n",
       "3                    2021                         True  \n",
       "4                    2013                         True  "
      ]
     },
     "execution_count": 6,
     "metadata": {},
     "output_type": "execute_result"
    }
   ],
   "source": [
    "df.head()"
   ]
  },
  {
   "cell_type": "markdown",
   "id": "cf2c6ff0",
   "metadata": {},
   "source": [
    "## Wie viele junge Erwachsene und Senioren möchten auf welchem Weg benachrichtigt werden?"
   ]
  },
  {
   "cell_type": "code",
   "execution_count": 7,
   "id": "11d8e702",
   "metadata": {},
   "outputs": [
    {
     "data": {
      "text/plain": [
       "Adult                  271588\n",
       "Juvenile                58767\n",
       "Senior                  47366\n",
       "Teen                    40340\n",
       "Welcome                 10587\n",
       "Digital Access Card      3707\n",
       "Teacher Card             3161\n",
       "Staff                     808\n",
       "Retired Staff             209\n",
       "At User Adult             128\n",
       "Library By Mail           117\n",
       "Visitor                   111\n",
       "Bibliocommons             109\n",
       "At User Senior             76\n",
       "At User Welcome            14\n",
       "At User Teen               10\n",
       "At User Juvenile            9\n",
       "Business                    8\n",
       "Name: Patron Type Definition, dtype: int64"
      ]
     },
     "execution_count": 7,
     "metadata": {},
     "output_type": "execute_result"
    }
   ],
   "source": [
    "df['Patron Type Definition'].value_counts()"
   ]
  },
  {
   "cell_type": "code",
   "execution_count": 8,
   "id": "304cb432",
   "metadata": {},
   "outputs": [],
   "source": [
    "Mail = df.loc[\n",
    "    (df['Patron Type Definition'] == 'Juvenile') |\n",
    "    (df['Patron Type Definition'] == 'Senior')\n",
    "]"
   ]
  },
  {
   "cell_type": "code",
   "execution_count": 9,
   "id": "9d72d9cd",
   "metadata": {},
   "outputs": [
    {
     "data": {
      "text/plain": [
       "<seaborn.axisgrid.FacetGrid at 0x7fc451d14940>"
      ]
     },
     "execution_count": 9,
     "metadata": {},
     "output_type": "execute_result"
    },
    {
     "data": {
      "image/png": "[encoded data removed]",
      "text/plain": [
       "<Figure size 746.472x500 with 1 Axes>"
      ]
     },
     "metadata": {},
     "output_type": "display_data"
    }
   ],
   "source": [
    "sns.catplot(x = 'Patron Type Definition', kind = 'count', hue = 'Notice Preference Definition', data = Mail, aspect = 1, palette=sns.color_palette('rocket', 4))"
   ]
  },
  {
   "cell_type": "code",
   "execution_count": 10,
   "id": "d9f031c1",
   "metadata": {},
   "outputs": [
    {
     "data": {
      "text/html": [
       "<div>\n",
       "<style scoped>\n",
       "    .dataframe tbody tr th:only-of-type {\n",
       "        vertical-align: middle;\n",
       "    }\n",
       "\n",
       "    .dataframe tbody tr th {\n",
       "        vertical-align: top;\n",
       "    }\n",
       "\n",
       "    .dataframe thead th {\n",
       "        text-align: right;\n",
       "    }\n",
       "</style>\n",
       "<table border=\"1\" class=\"dataframe\">\n",
       "  <thead>\n",
       "    <tr style=\"text-align: right;\">\n",
       "      <th>Patron Type Definition</th>\n",
       "      <th>Juvenile</th>\n",
       "      <th>Senior</th>\n",
       "    </tr>\n",
       "    <tr>\n",
       "      <th>Notice Preference Definition</th>\n",
       "      <th></th>\n",
       "      <th></th>\n",
       "    </tr>\n",
       "  </thead>\n",
       "  <tbody>\n",
       "    <tr>\n",
       "      <th>Email</th>\n",
       "      <td>49063</td>\n",
       "      <td>38529</td>\n",
       "    </tr>\n",
       "    <tr>\n",
       "      <th>None</th>\n",
       "      <td>885</td>\n",
       "      <td>105</td>\n",
       "    </tr>\n",
       "    <tr>\n",
       "      <th>Phone</th>\n",
       "      <td>7280</td>\n",
       "      <td>7577</td>\n",
       "    </tr>\n",
       "    <tr>\n",
       "      <th>Print</th>\n",
       "      <td>1539</td>\n",
       "      <td>1155</td>\n",
       "    </tr>\n",
       "  </tbody>\n",
       "</table>\n",
       "</div>"
      ],
      "text/plain": [
       "Patron Type Definition        Juvenile  Senior\n",
       "Notice Preference Definition                  \n",
       "Email                            49063   38529\n",
       "None                               885     105\n",
       "Phone                             7280    7577\n",
       "Print                             1539    1155"
      ]
     },
     "execution_count": 10,
     "metadata": {},
     "output_type": "execute_result"
    }
   ],
   "source": [
    "pd.crosstab(\n",
    "    Mail['Notice Preference Definition'],\n",
    "    Mail['Patron Type Definition'])"
   ]
  },
  {
   "cell_type": "markdown",
   "id": "4f75f883",
   "metadata": {},
   "source": [
    "## Mittelwert der Ausleihen von Teenagern, jungen Erwachsenen, Erwachsenen und Senioren"
   ]
  },
  {
   "cell_type": "code",
   "execution_count": 11,
   "id": "014accd9",
   "metadata": {},
   "outputs": [
    {
     "data": {
      "text/plain": [
       "70412694"
      ]
     },
     "execution_count": 11,
     "metadata": {},
     "output_type": "execute_result"
    }
   ],
   "source": [
    "df['Total Checkouts'].sum()"
   ]
  },
  {
   "cell_type": "code",
   "execution_count": 12,
   "id": "722bccb0",
   "metadata": {},
   "outputs": [
    {
     "data": {
      "text/plain": [
       "161.08505542019836"
      ]
     },
     "execution_count": 12,
     "metadata": {},
     "output_type": "execute_result"
    }
   ],
   "source": [
    "df['Total Checkouts'].mean()"
   ]
  },
  {
   "cell_type": "code",
   "execution_count": 14,
   "id": "bca7ae44",
   "metadata": {},
   "outputs": [
    {
     "name": "stdout",
     "output_type": "stream",
     "text": [
      "                        Patron Type Code  Total Checkouts  Total Renewals  \\\n",
      "Patron Type Definition                                                      \n",
      "Adult                                0.0       125.744945       68.161053   \n",
      "At User Adult                      100.0       382.320312      149.460938   \n",
      "At User Juvenile                   101.0        83.222222       34.555556   \n",
      "At User Senior                     103.0       390.750000       83.828947   \n",
      "At User Teen                       102.0        33.100000       12.700000   \n",
      "At User Welcome                    104.0         9.357143        1.785714   \n",
      "Bibliocommons                       17.0         0.009174        0.000000   \n",
      "Business                            11.0        56.000000       55.125000   \n",
      "Digital Access Card                 16.0         3.634475        0.611276   \n",
      "Juvenile                             1.0       106.273997       57.794834   \n",
      "Library By Mail                     12.0       342.598291      125.623932   \n",
      "Retired Staff                       55.0      1355.655502      755.789474   \n",
      "Senior                               3.0       392.551070      153.690875   \n",
      "Staff                                5.0      1204.919554      838.483911   \n",
      "Teacher Card                        15.0       161.392281       68.045872   \n",
      "Teen                                 2.0       235.112246       69.593778   \n",
      "Visitor                             10.0         4.828829        3.036036   \n",
      "Welcome                              4.0         3.496269        1.102390   \n",
      "\n",
      "                        Circulation Active Year  Provided Email Address  \\\n",
      "Patron Type Definition                                                    \n",
      "Adult                               2021.758615                0.938513   \n",
      "At User Adult                       2021.593496                0.828125   \n",
      "At User Juvenile                    2021.875000                0.777778   \n",
      "At User Senior                      2021.560000                0.750000   \n",
      "At User Teen                        2021.600000                1.000000   \n",
      "At User Welcome                     2022.000000                0.928571   \n",
      "Bibliocommons                       2021.591837                0.954128   \n",
      "Business                            2022.750000                1.000000   \n",
      "Digital Access Card                 2021.504386                0.531967   \n",
      "Juvenile                            2021.711947                0.835435   \n",
      "Library By Mail                     2021.935185                0.811966   \n",
      "Retired Staff                       2022.052885                0.933014   \n",
      "Senior                              2021.852253                0.813938   \n",
      "Staff                               2022.583333                0.982673   \n",
      "Teacher Card                        2021.864372                0.958241   \n",
      "Teen                                2020.910051                0.830045   \n",
      "Visitor                             2022.083333                0.945946   \n",
      "Welcome                             2021.132911                0.854444   \n",
      "\n",
      "                        Year Patron Registered  Within San Francisco County  \n",
      "Patron Type Definition                                                       \n",
      "Adult                              2015.061306                     0.825916  \n",
      "At User Adult                      2010.117188                     0.851562  \n",
      "At User Juvenile                   2018.222222                     0.777778  \n",
      "At User Senior                     2008.921053                     0.842105  \n",
      "At User Teen                       2017.400000                     0.500000  \n",
      "At User Welcome                    2016.000000                     0.714286  \n",
      "Bibliocommons                      2016.146789                     1.000000  \n",
      "Business                           2008.875000                     1.000000  \n",
      "Digital Access Card                2020.178851                     0.773402  \n",
      "Juvenile                           2018.311757                     0.954481  \n",
      "Library By Mail                    2012.820513                     0.991453  \n",
      "Retired Staff                      2003.803828                     0.622010  \n",
      "Senior                             2010.964743                     0.784951  \n",
      "Staff                              2007.439356                     0.905941  \n",
      "Teacher Card                       2017.556786                     0.888010  \n",
      "Teen                               2014.424641                     0.900273  \n",
      "Visitor                            2021.819820                     0.387387  \n",
      "Welcome                            2018.861623                     0.789081  \n"
     ]
    }
   ],
   "source": [
    "print(df.groupby('Patron Type Definition').mean())"
   ]
  },
  {
   "cell_type": "code",
   "execution_count": 53,
   "id": "60e84bba",
   "metadata": {},
   "outputs": [],
   "source": [
    "\n",
    "df[\"Mittelwert_Checkouts\"] =(df['Total Checkouts'].mean())"
   ]
  },
  {
   "cell_type": "code",
   "execution_count": 42,
   "id": "9d46d469",
   "metadata": {},
   "outputs": [
    {
     "data": {
      "text/html": [
       "<div>\n",
       "<style scoped>\n",
       "    .dataframe tbody tr th:only-of-type {\n",
       "        vertical-align: middle;\n",
       "    }\n",
       "\n",
       "    .dataframe tbody tr th {\n",
       "        vertical-align: top;\n",
       "    }\n",
       "\n",
       "    .dataframe thead th {\n",
       "        text-align: right;\n",
       "    }\n",
       "</style>\n",
       "<table border=\"1\" class=\"dataframe\">\n",
       "  <thead>\n",
       "    <tr style=\"text-align: right;\">\n",
       "      <th></th>\n",
       "      <th>Patron Type Code</th>\n",
       "      <th>Patron Type Definition</th>\n",
       "      <th>Total Checkouts</th>\n",
       "      <th>Total Renewals</th>\n",
       "      <th>Age Range</th>\n",
       "      <th>Home Library Code</th>\n",
       "      <th>Home Library Definition</th>\n",
       "      <th>Circulation Active Month</th>\n",
       "      <th>Circulation Active Year</th>\n",
       "      <th>Notice Preference Code</th>\n",
       "      <th>Notice Preference Definition</th>\n",
       "      <th>Provided Email Address</th>\n",
       "      <th>Year Patron Registered</th>\n",
       "      <th>Within San Francisco County</th>\n",
       "      <th>Average Checkouts per Year</th>\n",
       "      <th>Mittelwert_Checkouts</th>\n",
       "    </tr>\n",
       "  </thead>\n",
       "  <tbody>\n",
       "    <tr>\n",
       "      <th>0</th>\n",
       "      <td>1</td>\n",
       "      <td>Juvenile</td>\n",
       "      <td>0</td>\n",
       "      <td>0</td>\n",
       "      <td>0 to 9 years</td>\n",
       "      <td>r3</td>\n",
       "      <td>Richmond</td>\n",
       "      <td>NaN</td>\n",
       "      <td>NaN</td>\n",
       "      <td>z</td>\n",
       "      <td>Email</td>\n",
       "      <td>True</td>\n",
       "      <td>2022</td>\n",
       "      <td>True</td>\n",
       "      <td>NaN</td>\n",
       "      <td>161.085055</td>\n",
       "    </tr>\n",
       "    <tr>\n",
       "      <th>1</th>\n",
       "      <td>2</td>\n",
       "      <td>Teen</td>\n",
       "      <td>0</td>\n",
       "      <td>0</td>\n",
       "      <td>10 to 19 years</td>\n",
       "      <td>x</td>\n",
       "      <td>Main</td>\n",
       "      <td>NaN</td>\n",
       "      <td>NaN</td>\n",
       "      <td>z</td>\n",
       "      <td>Email</td>\n",
       "      <td>True</td>\n",
       "      <td>2022</td>\n",
       "      <td>True</td>\n",
       "      <td>NaN</td>\n",
       "      <td>161.085055</td>\n",
       "    </tr>\n",
       "    <tr>\n",
       "      <th>2</th>\n",
       "      <td>0</td>\n",
       "      <td>Adult</td>\n",
       "      <td>0</td>\n",
       "      <td>0</td>\n",
       "      <td>35 to 44 years</td>\n",
       "      <td>m4</td>\n",
       "      <td>Merced</td>\n",
       "      <td>NaN</td>\n",
       "      <td>NaN</td>\n",
       "      <td>z</td>\n",
       "      <td>Email</td>\n",
       "      <td>True</td>\n",
       "      <td>2019</td>\n",
       "      <td>True</td>\n",
       "      <td>NaN</td>\n",
       "      <td>161.085055</td>\n",
       "    </tr>\n",
       "    <tr>\n",
       "      <th>3</th>\n",
       "      <td>2</td>\n",
       "      <td>Teen</td>\n",
       "      <td>0</td>\n",
       "      <td>0</td>\n",
       "      <td>10 to 19 years</td>\n",
       "      <td>x</td>\n",
       "      <td>Main</td>\n",
       "      <td>NaN</td>\n",
       "      <td>NaN</td>\n",
       "      <td>z</td>\n",
       "      <td>Email</td>\n",
       "      <td>True</td>\n",
       "      <td>2021</td>\n",
       "      <td>True</td>\n",
       "      <td>NaN</td>\n",
       "      <td>161.085055</td>\n",
       "    </tr>\n",
       "    <tr>\n",
       "      <th>4</th>\n",
       "      <td>2</td>\n",
       "      <td>Teen</td>\n",
       "      <td>0</td>\n",
       "      <td>0</td>\n",
       "      <td>10 to 19 years</td>\n",
       "      <td>b2</td>\n",
       "      <td>Bayview</td>\n",
       "      <td>NaN</td>\n",
       "      <td>NaN</td>\n",
       "      <td>z</td>\n",
       "      <td>Email</td>\n",
       "      <td>True</td>\n",
       "      <td>2013</td>\n",
       "      <td>True</td>\n",
       "      <td>NaN</td>\n",
       "      <td>161.085055</td>\n",
       "    </tr>\n",
       "  </tbody>\n",
       "</table>\n",
       "</div>"
      ],
      "text/plain": [
       "   Patron Type Code Patron Type Definition  Total Checkouts  Total Renewals  \\\n",
       "0                 1               Juvenile                0               0   \n",
       "1                 2                   Teen                0               0   \n",
       "2                 0                  Adult                0               0   \n",
       "3                 2                   Teen                0               0   \n",
       "4                 2                   Teen                0               0   \n",
       "\n",
       "        Age Range Home Library Code Home Library Definition  \\\n",
       "0    0 to 9 years                r3                Richmond   \n",
       "1  10 to 19 years                 x                    Main   \n",
       "2  35 to 44 years                m4                  Merced   \n",
       "3  10 to 19 years                 x                    Main   \n",
       "4  10 to 19 years                b2                 Bayview   \n",
       "\n",
       "  Circulation Active Month  Circulation Active Year Notice Preference Code  \\\n",
       "0                      NaN                      NaN                      z   \n",
       "1                      NaN                      NaN                      z   \n",
       "2                      NaN                      NaN                      z   \n",
       "3                      NaN                      NaN                      z   \n",
       "4                      NaN                      NaN                      z   \n",
       "\n",
       "  Notice Preference Definition  Provided Email Address  \\\n",
       "0                        Email                    True   \n",
       "1                        Email                    True   \n",
       "2                        Email                    True   \n",
       "3                        Email                    True   \n",
       "4                        Email                    True   \n",
       "\n",
       "   Year Patron Registered  Within San Francisco County  \\\n",
       "0                    2022                         True   \n",
       "1                    2022                         True   \n",
       "2                    2019                         True   \n",
       "3                    2021                         True   \n",
       "4                    2013                         True   \n",
       "\n",
       "   Average Checkouts per Year  Mittelwert_Checkouts  \n",
       "0                         NaN            161.085055  \n",
       "1                         NaN            161.085055  \n",
       "2                         NaN            161.085055  \n",
       "3                         NaN            161.085055  \n",
       "4                         NaN            161.085055  "
      ]
     },
     "execution_count": 42,
     "metadata": {},
     "output_type": "execute_result"
    }
   ],
   "source": [
    "df.head()"
   ]
  },
  {
   "cell_type": "code",
   "execution_count": 34,
   "id": "a453b8af",
   "metadata": {},
   "outputs": [],
   "source": [
    "Mittelwert = df.loc[\n",
    "    (df['Patron Type Definition'] == 'Teen') |\n",
    "    (df['Patron Type Definition'] == 'Juvenile') |\n",
    "    (df['Patron Type Definition'] == 'Adult') |\n",
    "    (df['Patron Type Definition'] == 'Senior')\n",
    "]"
   ]
  },
  {
   "cell_type": "code",
   "execution_count": 29,
   "id": "014271e2",
   "metadata": {},
   "outputs": [
    {
     "data": {
      "image/png": "[encoded data removed]",
      "text/plain": [
       "<Figure size 500x500 with 1 Axes>"
      ]
     },
     "metadata": {},
     "output_type": "display_data"
    }
   ],
   "source": [
    "order =['Teen', 'Juvenile', 'Adult', 'Senior']\n",
    "\n",
    "plt = sns.catplot(y='Total Checkouts', x='Patron Type Definition', data= Mittelwert, order =order, aspect = 1, palette=sns.color_palette('pastel', 4))"
   ]
  },
  {
   "cell_type": "code",
   "execution_count": 16,
   "id": "a1afa1d9",
   "metadata": {},
   "outputs": [
    {
     "ename": "TypeError",
     "evalue": "'NoneType' object is not iterable",
     "output_type": "error",
     "traceback": [
      "\u001b[0;31m---------------------------------------------------------------------------\u001b[0m",
      "\u001b[0;31mTypeError\u001b[0m                                 Traceback (most recent call last)",
      "\u001b[0;32m/tmp/ipykernel_2528/608916285.py\u001b[0m in \u001b[0;36m<module>\u001b[0;34m\u001b[0m\n\u001b[0;32m----> 1\u001b[0;31m \u001b[0msns\u001b[0m\u001b[0;34m.\u001b[0m\u001b[0mcatplot\u001b[0m\u001b[0;34m(\u001b[0m\u001b[0mx\u001b[0m \u001b[0;34m=\u001b[0m \u001b[0;34m'Patron Type Definition'\u001b[0m\u001b[0;34m,\u001b[0m \u001b[0mkind\u001b[0m \u001b[0;34m=\u001b[0m \u001b[0;34m'strip'\u001b[0m\u001b[0;34m,\u001b[0m \u001b[0mhue\u001b[0m \u001b[0;34m=\u001b[0m \u001b[0;34m'Total Checkouts'\u001b[0m\u001b[0;34m,\u001b[0m \u001b[0mdata\u001b[0m \u001b[0;34m=\u001b[0m \u001b[0mMittelwert\u001b[0m\u001b[0;34m,\u001b[0m \u001b[0maspect\u001b[0m \u001b[0;34m=\u001b[0m \u001b[0;36m1\u001b[0m\u001b[0;34m,\u001b[0m \u001b[0mpalette\u001b[0m\u001b[0;34m=\u001b[0m\u001b[0msns\u001b[0m\u001b[0;34m.\u001b[0m\u001b[0mcolor_palette\u001b[0m\u001b[0;34m(\u001b[0m\u001b[0;34m'rocket'\u001b[0m\u001b[0;34m,\u001b[0m \u001b[0;36m4\u001b[0m\u001b[0;34m)\u001b[0m\u001b[0;34m)\u001b[0m\u001b[0;34m\u001b[0m\u001b[0;34m\u001b[0m\u001b[0m\n\u001b[0m",
      "\u001b[0;32m~/anaconda3/lib/python3.9/site-packages/seaborn/_decorators.py\u001b[0m in \u001b[0;36minner_f\u001b[0;34m(*args, **kwargs)\u001b[0m\n\u001b[1;32m     44\u001b[0m             )\n\u001b[1;32m     45\u001b[0m         \u001b[0mkwargs\u001b[0m\u001b[0;34m.\u001b[0m\u001b[0mupdate\u001b[0m\u001b[0;34m(\u001b[0m\u001b[0;34m{\u001b[0m\u001b[0mk\u001b[0m\u001b[0;34m:\u001b[0m \u001b[0marg\u001b[0m \u001b[0;32mfor\u001b[0m \u001b[0mk\u001b[0m\u001b[0;34m,\u001b[0m \u001b[0marg\u001b[0m \u001b[0;32min\u001b[0m \u001b[0mzip\u001b[0m\u001b[0;34m(\u001b[0m\u001b[0msig\u001b[0m\u001b[0;34m.\u001b[0m\u001b[0mparameters\u001b[0m\u001b[0;34m,\u001b[0m \u001b[0margs\u001b[0m\u001b[0;34m)\u001b[0m\u001b[0;34m}\u001b[0m\u001b[0;34m)\u001b[0m\u001b[0;34m\u001b[0m\u001b[0;34m\u001b[0m\u001b[0m\n\u001b[0;32m---> 46\u001b[0;31m         \u001b[0;32mreturn\u001b[0m \u001b[0mf\u001b[0m\u001b[0;34m(\u001b[0m\u001b[0;34m**\u001b[0m\u001b[0mkwargs\u001b[0m\u001b[0;34m)\u001b[0m\u001b[0;34m\u001b[0m\u001b[0;34m\u001b[0m\u001b[0m\n\u001b[0m\u001b[1;32m     47\u001b[0m     \u001b[0;32mreturn\u001b[0m \u001b[0minner_f\u001b[0m\u001b[0;34m\u001b[0m\u001b[0;34m\u001b[0m\u001b[0m\n\u001b[1;32m     48\u001b[0m \u001b[0;34m\u001b[0m\u001b[0m\n",
      "\u001b[0;32m~/anaconda3/lib/python3.9/site-packages/seaborn/categorical.py\u001b[0m in \u001b[0;36mcatplot\u001b[0;34m(x, y, hue, data, row, col, col_wrap, estimator, ci, n_boot, units, seed, order, hue_order, row_order, col_order, kind, height, aspect, orient, color, palette, legend, legend_out, sharex, sharey, margin_titles, facet_kws, **kwargs)\u001b[0m\n\u001b[1;32m   3860\u001b[0m \u001b[0;34m\u001b[0m\u001b[0m\n\u001b[1;32m   3861\u001b[0m     \u001b[0;32mif\u001b[0m \u001b[0mlegend\u001b[0m \u001b[0;32mand\u001b[0m \u001b[0;34m(\u001b[0m\u001b[0mhue\u001b[0m \u001b[0;32mis\u001b[0m \u001b[0;32mnot\u001b[0m \u001b[0;32mNone\u001b[0m\u001b[0;34m)\u001b[0m \u001b[0;32mand\u001b[0m \u001b[0;34m(\u001b[0m\u001b[0mhue\u001b[0m \u001b[0;32mnot\u001b[0m \u001b[0;32min\u001b[0m \u001b[0;34m[\u001b[0m\u001b[0mx\u001b[0m\u001b[0;34m,\u001b[0m \u001b[0mrow\u001b[0m\u001b[0;34m,\u001b[0m \u001b[0mcol\u001b[0m\u001b[0;34m]\u001b[0m\u001b[0;34m)\u001b[0m\u001b[0;34m:\u001b[0m\u001b[0;34m\u001b[0m\u001b[0;34m\u001b[0m\u001b[0m\n\u001b[0;32m-> 3862\u001b[0;31m         \u001b[0mhue_order\u001b[0m \u001b[0;34m=\u001b[0m \u001b[0mlist\u001b[0m\u001b[0;34m(\u001b[0m\u001b[0mmap\u001b[0m\u001b[0;34m(\u001b[0m\u001b[0mutils\u001b[0m\u001b[0;34m.\u001b[0m\u001b[0mto_utf8\u001b[0m\u001b[0;34m,\u001b[0m \u001b[0mhue_order\u001b[0m\u001b[0;34m)\u001b[0m\u001b[0;34m)\u001b[0m\u001b[0;34m\u001b[0m\u001b[0;34m\u001b[0m\u001b[0m\n\u001b[0m\u001b[1;32m   3863\u001b[0m         \u001b[0mg\u001b[0m\u001b[0;34m.\u001b[0m\u001b[0madd_legend\u001b[0m\u001b[0;34m(\u001b[0m\u001b[0mtitle\u001b[0m\u001b[0;34m=\u001b[0m\u001b[0mhue\u001b[0m\u001b[0;34m,\u001b[0m \u001b[0mlabel_order\u001b[0m\u001b[0;34m=\u001b[0m\u001b[0mhue_order\u001b[0m\u001b[0;34m)\u001b[0m\u001b[0;34m\u001b[0m\u001b[0;34m\u001b[0m\u001b[0m\n\u001b[1;32m   3864\u001b[0m \u001b[0;34m\u001b[0m\u001b[0m\n",
      "\u001b[0;31mTypeError\u001b[0m: 'NoneType' object is not iterable"
     ]
    },
    {
     "data": {
      "image/png": "[encoded data removed]",
      "text/plain": [
       "<Figure size 500x500 with 1 Axes>"
      ]
     },
     "metadata": {},
     "output_type": "display_data"
    }
   ],
   "source": [
    "sns.catplot(x = 'Patron Type Definition', kind = 'strip', hue = 'Total Checkouts', data = Mittelwert, aspect = 1, palette=sns.color_palette('rocket', 4))"
   ]
  },
  {
   "cell_type": "code",
   "execution_count": null,
   "id": "eb5fbb66",
   "metadata": {},
   "outputs": [],
   "source": []
  }
 ],
 "metadata": {
  "kernelspec": {
   "display_name": "Python 3 (ipykernel)",
   "language": "python",
   "name": "python3"
  },
  "language_info": {
   "codemirror_mode": {
    "name": "ipython",
    "version": 3
   },
   "file_extension": ".py",
   "mimetype": "text/x-python",
   "name": "python",
   "nbconvert_exporter": "python",
   "pygments_lexer": "ipython3",
   "version": "3.9.13"
  }
 },
 "nbformat": 4,
 "nbformat_minor": 5
}
