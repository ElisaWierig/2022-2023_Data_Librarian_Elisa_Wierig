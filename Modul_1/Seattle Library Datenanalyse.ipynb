{
 "cells": [
  {
   "cell_type": "code",
   "execution_count": 229,
   "id": "30462333",
   "metadata": {},
   "outputs": [],
   "source": [
    "import urllib.request\n",
    "import pandas as pd"
   ]
  },
  {
   "cell_type": "markdown",
   "id": "eeef0a2e",
   "metadata": {},
   "source": [
    "### Checkout-Daten über die API beziehen und als CSV-Datei speichern"
   ]
  },
  {
   "cell_type": "code",
   "execution_count": 230,
   "id": "550e699c",
   "metadata": {
    "scrolled": true
   },
   "outputs": [
    {
     "data": {
      "text/plain": [
       "('checkout.csv', <http.client.HTTPMessage at 0x7f01145cf730>)"
      ]
     },
     "execution_count": 230,
     "metadata": {},
     "output_type": "execute_result"
    }
   ],
   "source": [
    "url = \"https://data.seattle.gov/resource/tmmm-ytt6.csv?$where=checkoutyear=2018&$limit=10000\"\n",
    "checkout_file = \"checkout.csv\"\n",
    "urllib.request.urlretrieve(url, checkout_file)"
   ]
  },
  {
   "cell_type": "markdown",
   "id": "e4e6e8cd",
   "metadata": {},
   "source": [
    "### In einen DataFrame laden und analysieren"
   ]
  },
  {
   "cell_type": "code",
   "execution_count": 231,
   "id": "27ddb55d",
   "metadata": {},
   "outputs": [],
   "source": [
    "checkouts_df = pd.read_csv(checkout_file)"
   ]
  },
  {
   "cell_type": "code",
   "execution_count": 232,
   "id": "4c967e39",
   "metadata": {},
   "outputs": [
    {
     "data": {
      "text/html": [
       "<div>\n",
       "<style scoped>\n",
       "    .dataframe tbody tr th:only-of-type {\n",
       "        vertical-align: middle;\n",
       "    }\n",
       "\n",
       "    .dataframe tbody tr th {\n",
       "        vertical-align: top;\n",
       "    }\n",
       "\n",
       "    .dataframe thead th {\n",
       "        text-align: right;\n",
       "    }\n",
       "</style>\n",
       "<table border=\"1\" class=\"dataframe\">\n",
       "  <thead>\n",
       "    <tr style=\"text-align: right;\">\n",
       "      <th></th>\n",
       "      <th>usageclass</th>\n",
       "      <th>checkouttype</th>\n",
       "      <th>materialtype</th>\n",
       "      <th>checkoutyear</th>\n",
       "      <th>checkoutmonth</th>\n",
       "      <th>checkouts</th>\n",
       "      <th>title</th>\n",
       "      <th>isbn</th>\n",
       "      <th>creator</th>\n",
       "      <th>subjects</th>\n",
       "      <th>publisher</th>\n",
       "      <th>publicationyear</th>\n",
       "    </tr>\n",
       "  </thead>\n",
       "  <tbody>\n",
       "    <tr>\n",
       "      <th>0</th>\n",
       "      <td>Digital</td>\n",
       "      <td>OverDrive</td>\n",
       "      <td>EBOOK</td>\n",
       "      <td>2018</td>\n",
       "      <td>1</td>\n",
       "      <td>22</td>\n",
       "      <td>Enemy of the State</td>\n",
       "      <td>NaN</td>\n",
       "      <td>Vince Flynn</td>\n",
       "      <td>Fiction, Literature, Thriller</td>\n",
       "      <td>Simon &amp; Schuster, Inc.</td>\n",
       "      <td>2017</td>\n",
       "    </tr>\n",
       "    <tr>\n",
       "      <th>1</th>\n",
       "      <td>Digital</td>\n",
       "      <td>Hoopla</td>\n",
       "      <td>TELEVISION</td>\n",
       "      <td>2018</td>\n",
       "      <td>1</td>\n",
       "      <td>1</td>\n",
       "      <td>Newspaper Mom / Cucumber in Rio / Donut Raffle</td>\n",
       "      <td>NaN</td>\n",
       "      <td>NaN</td>\n",
       "      <td>Children's</td>\n",
       "      <td>DHX Media</td>\n",
       "      <td>NaN</td>\n",
       "    </tr>\n",
       "    <tr>\n",
       "      <th>2</th>\n",
       "      <td>Physical</td>\n",
       "      <td>Horizon</td>\n",
       "      <td>SOUNDDISC</td>\n",
       "      <td>2018</td>\n",
       "      <td>1</td>\n",
       "      <td>1</td>\n",
       "      <td>Mono / the Mavericks.</td>\n",
       "      <td>NaN</td>\n",
       "      <td>Mavericks (Musical group)</td>\n",
       "      <td>Country music 2011 2020</td>\n",
       "      <td>Valory,</td>\n",
       "      <td>[2015]</td>\n",
       "    </tr>\n",
       "    <tr>\n",
       "      <th>3</th>\n",
       "      <td>Digital</td>\n",
       "      <td>OverDrive</td>\n",
       "      <td>EBOOK</td>\n",
       "      <td>2018</td>\n",
       "      <td>1</td>\n",
       "      <td>2</td>\n",
       "      <td>Anna Karenina</td>\n",
       "      <td>NaN</td>\n",
       "      <td>Leo Tolstoy</td>\n",
       "      <td>Classic Literature, Fiction, Literature</td>\n",
       "      <td>Penguin Group (USA), Inc.</td>\n",
       "      <td>2009</td>\n",
       "    </tr>\n",
       "    <tr>\n",
       "      <th>4</th>\n",
       "      <td>Digital</td>\n",
       "      <td>OverDrive</td>\n",
       "      <td>EBOOK</td>\n",
       "      <td>2018</td>\n",
       "      <td>1</td>\n",
       "      <td>1</td>\n",
       "      <td>Dragon: Vlad Series, Book 8</td>\n",
       "      <td>NaN</td>\n",
       "      <td>Steven Brust</td>\n",
       "      <td>Fantasy, Fiction</td>\n",
       "      <td>Macmillan Publishers</td>\n",
       "      <td>2015</td>\n",
       "    </tr>\n",
       "    <tr>\n",
       "      <th>...</th>\n",
       "      <td>...</td>\n",
       "      <td>...</td>\n",
       "      <td>...</td>\n",
       "      <td>...</td>\n",
       "      <td>...</td>\n",
       "      <td>...</td>\n",
       "      <td>...</td>\n",
       "      <td>...</td>\n",
       "      <td>...</td>\n",
       "      <td>...</td>\n",
       "      <td>...</td>\n",
       "      <td>...</td>\n",
       "    </tr>\n",
       "    <tr>\n",
       "      <th>9995</th>\n",
       "      <td>Digital</td>\n",
       "      <td>OverDrive</td>\n",
       "      <td>EBOOK</td>\n",
       "      <td>2018</td>\n",
       "      <td>1</td>\n",
       "      <td>1</td>\n",
       "      <td>Immortal: Fallen Angels Series, Book 6</td>\n",
       "      <td>NaN</td>\n",
       "      <td>J.R. Ward</td>\n",
       "      <td>Fantasy, Fiction, Romance</td>\n",
       "      <td>Penguin Group (USA), Inc.</td>\n",
       "      <td>2014</td>\n",
       "    </tr>\n",
       "    <tr>\n",
       "      <th>9996</th>\n",
       "      <td>Digital</td>\n",
       "      <td>OverDrive</td>\n",
       "      <td>EBOOK</td>\n",
       "      <td>2018</td>\n",
       "      <td>1</td>\n",
       "      <td>1</td>\n",
       "      <td>The Price of Silence</td>\n",
       "      <td>NaN</td>\n",
       "      <td>Kate Wilhelm</td>\n",
       "      <td>Fiction, Suspense, Thriller</td>\n",
       "      <td>Harlequin Enterprises, Ltd.</td>\n",
       "      <td>2011</td>\n",
       "    </tr>\n",
       "    <tr>\n",
       "      <th>9997</th>\n",
       "      <td>Digital</td>\n",
       "      <td>Freegal</td>\n",
       "      <td>SONG</td>\n",
       "      <td>2018</td>\n",
       "      <td>1</td>\n",
       "      <td>1</td>\n",
       "      <td>Desert Hideaway</td>\n",
       "      <td>NaN</td>\n",
       "      <td>NaN</td>\n",
       "      <td>NaN</td>\n",
       "      <td>NaN</td>\n",
       "      <td>NaN</td>\n",
       "    </tr>\n",
       "    <tr>\n",
       "      <th>9998</th>\n",
       "      <td>Physical</td>\n",
       "      <td>Horizon</td>\n",
       "      <td>BOOK</td>\n",
       "      <td>2018</td>\n",
       "      <td>1</td>\n",
       "      <td>3</td>\n",
       "      <td>Waistcoats &amp; weaponry / Gail Carriger.</td>\n",
       "      <td>NaN</td>\n",
       "      <td>Carriger, Gail</td>\n",
       "      <td>Boarding schools Fiction, Schools Fiction, Eti...</td>\n",
       "      <td>Little, Brown and Company,</td>\n",
       "      <td>2014.</td>\n",
       "    </tr>\n",
       "    <tr>\n",
       "      <th>9999</th>\n",
       "      <td>Physical</td>\n",
       "      <td>Horizon</td>\n",
       "      <td>SOUNDDISC</td>\n",
       "      <td>2018</td>\n",
       "      <td>1</td>\n",
       "      <td>1</td>\n",
       "      <td>Red moon rising : [Sputnik and the hidden riva...</td>\n",
       "      <td>NaN</td>\n",
       "      <td>Brzezinski, Matthew, 1965-</td>\n",
       "      <td>Space race United States History 20th century,...</td>\n",
       "      <td>HighBridge,</td>\n",
       "      <td>[2007]</td>\n",
       "    </tr>\n",
       "  </tbody>\n",
       "</table>\n",
       "<p>10000 rows × 12 columns</p>\n",
       "</div>"
      ],
      "text/plain": [
       "     usageclass checkouttype materialtype  checkoutyear  checkoutmonth  \\\n",
       "0       Digital    OverDrive        EBOOK          2018              1   \n",
       "1       Digital       Hoopla   TELEVISION          2018              1   \n",
       "2      Physical      Horizon    SOUNDDISC          2018              1   \n",
       "3       Digital    OverDrive        EBOOK          2018              1   \n",
       "4       Digital    OverDrive        EBOOK          2018              1   \n",
       "...         ...          ...          ...           ...            ...   \n",
       "9995    Digital    OverDrive        EBOOK          2018              1   \n",
       "9996    Digital    OverDrive        EBOOK          2018              1   \n",
       "9997    Digital      Freegal         SONG          2018              1   \n",
       "9998   Physical      Horizon         BOOK          2018              1   \n",
       "9999   Physical      Horizon    SOUNDDISC          2018              1   \n",
       "\n",
       "      checkouts                                              title  isbn  \\\n",
       "0            22                                 Enemy of the State   NaN   \n",
       "1             1     Newspaper Mom / Cucumber in Rio / Donut Raffle   NaN   \n",
       "2             1                              Mono / the Mavericks.   NaN   \n",
       "3             2                                      Anna Karenina   NaN   \n",
       "4             1                        Dragon: Vlad Series, Book 8   NaN   \n",
       "...         ...                                                ...   ...   \n",
       "9995          1             Immortal: Fallen Angels Series, Book 6   NaN   \n",
       "9996          1                               The Price of Silence   NaN   \n",
       "9997          1                                    Desert Hideaway   NaN   \n",
       "9998          3             Waistcoats & weaponry / Gail Carriger.   NaN   \n",
       "9999          1  Red moon rising : [Sputnik and the hidden riva...   NaN   \n",
       "\n",
       "                         creator  \\\n",
       "0                    Vince Flynn   \n",
       "1                            NaN   \n",
       "2      Mavericks (Musical group)   \n",
       "3                    Leo Tolstoy   \n",
       "4                   Steven Brust   \n",
       "...                          ...   \n",
       "9995                   J.R. Ward   \n",
       "9996                Kate Wilhelm   \n",
       "9997                         NaN   \n",
       "9998              Carriger, Gail   \n",
       "9999  Brzezinski, Matthew, 1965-   \n",
       "\n",
       "                                               subjects  \\\n",
       "0                         Fiction, Literature, Thriller   \n",
       "1                                            Children's   \n",
       "2                               Country music 2011 2020   \n",
       "3               Classic Literature, Fiction, Literature   \n",
       "4                                      Fantasy, Fiction   \n",
       "...                                                 ...   \n",
       "9995                          Fantasy, Fiction, Romance   \n",
       "9996                        Fiction, Suspense, Thriller   \n",
       "9997                                                NaN   \n",
       "9998  Boarding schools Fiction, Schools Fiction, Eti...   \n",
       "9999  Space race United States History 20th century,...   \n",
       "\n",
       "                        publisher publicationyear  \n",
       "0          Simon & Schuster, Inc.            2017  \n",
       "1                       DHX Media             NaN  \n",
       "2                         Valory,          [2015]  \n",
       "3       Penguin Group (USA), Inc.            2009  \n",
       "4            Macmillan Publishers            2015  \n",
       "...                           ...             ...  \n",
       "9995    Penguin Group (USA), Inc.            2014  \n",
       "9996  Harlequin Enterprises, Ltd.            2011  \n",
       "9997                          NaN             NaN  \n",
       "9998   Little, Brown and Company,           2014.  \n",
       "9999                  HighBridge,          [2007]  \n",
       "\n",
       "[10000 rows x 12 columns]"
      ]
     },
     "execution_count": 232,
     "metadata": {},
     "output_type": "execute_result"
    }
   ],
   "source": [
    "checkouts_df"
   ]
  },
  {
   "cell_type": "markdown",
   "id": "e0a81c62",
   "metadata": {},
   "source": [
    "## How many checkouts per usageclass?"
   ]
  },
  {
   "cell_type": "code",
   "execution_count": 233,
   "id": "6ed41b44",
   "metadata": {},
   "outputs": [
    {
     "data": {
      "text/plain": [
       "<pandas.core.groupby.generic.DataFrameGroupBy object at 0x7f01143c4880>"
      ]
     },
     "execution_count": 233,
     "metadata": {},
     "output_type": "execute_result"
    }
   ],
   "source": [
    "checkouts_df.groupby(\"usageclass\")"
   ]
  },
  {
   "cell_type": "code",
   "execution_count": 234,
   "id": "6cf05178",
   "metadata": {},
   "outputs": [
    {
     "data": {
      "text/plain": [
       "usageclass\n",
       "Digital     11207\n",
       "Physical    22185\n",
       "Name: checkouts, dtype: int64"
      ]
     },
     "execution_count": 234,
     "metadata": {},
     "output_type": "execute_result"
    }
   ],
   "source": [
    "checkouts_df.groupby(\"usageclass\")[\"checkouts\"].sum()"
   ]
  },
  {
   "cell_type": "code",
   "execution_count": 235,
   "id": "8b7312f2",
   "metadata": {},
   "outputs": [
    {
     "data": {
      "text/plain": [
       "<AxesSubplot:ylabel='usageclass'>"
      ]
     },
     "execution_count": 235,
     "metadata": {},
     "output_type": "execute_result"
    },
    {
     "data": {
      "image/png": "[encoded data removed]",
      "text/plain": [
       "<Figure size 640x480 with 1 Axes>"
      ]
     },
     "metadata": {},
     "output_type": "display_data"
    }
   ],
   "source": [
    "checkouts_df.groupby(\"usageclass\")[\"checkouts\"].sum().plot(kind=\"barh\")"
   ]
  },
  {
   "cell_type": "markdown",
   "id": "d3b00054",
   "metadata": {},
   "source": [
    "## Show titles in alphabetical order and output only the columns title and checkouts"
   ]
  },
  {
   "cell_type": "code",
   "execution_count": 236,
   "id": "309a20b3",
   "metadata": {},
   "outputs": [],
   "source": [
    "#checkouts_df = checkouts_df.sort_values(by=\"title\")"
   ]
  },
  {
   "cell_type": "code",
   "execution_count": 237,
   "id": "4f97ce87",
   "metadata": {},
   "outputs": [],
   "source": [
    "checkouts_df.sort_values(\"title\", inplace=True)"
   ]
  },
  {
   "cell_type": "code",
   "execution_count": 238,
   "id": "2fef1e77",
   "metadata": {},
   "outputs": [],
   "source": [
    "checkouts_df = checkouts_df[[\"checkouts\", \"title\"]]"
   ]
  },
  {
   "cell_type": "code",
   "execution_count": 239,
   "id": "e719c1ae",
   "metadata": {},
   "outputs": [
    {
     "name": "stdout",
     "output_type": "stream",
     "text": [
      "      checkouts                                              title\n",
      "2234          3                    \"A\" is for alibi / Sue Grafton.\n",
      "8080          1  \"All the real Indians died off\" : and 20 other...\n",
      "9508         16                                 \"Awaken, My Love!\"\n",
      "2848          5                 \"E\" is for evidence / Sue Grafton.\n",
      "378           5  \"F\" is for Fugitive: Kinsey Millhone Series, B...\n",
      "...         ...                                                ...\n",
      "430           1  Übel Blatt. 2 / Etorouji Shiono ; translation:...\n",
      "2200          1  Čáw pawá láakni = They are not forgotten : Sah...\n",
      "6670          1  Đi về phía không anh : tiểu thuyết / Trương Vũ...\n",
      "2740          1  Để bạn luôn trẻ mãi : năm tháng qua đi, chúng ...\n",
      "7389          1                 心理学经典实验书系：儿童心理学 (Child psychology)\n",
      "\n",
      "[10000 rows x 2 columns]\n"
     ]
    }
   ],
   "source": [
    "print(checkouts_df)"
   ]
  },
  {
   "cell_type": "markdown",
   "id": "d36f5ba8",
   "metadata": {},
   "source": [
    "## Show only checkouts above 20"
   ]
  },
  {
   "cell_type": "code",
   "execution_count": 240,
   "id": "c7fdca54",
   "metadata": {},
   "outputs": [],
   "source": [
    "checkouts_df = checkouts_df[checkouts_df[\"checkouts\"] >20]"
   ]
  },
  {
   "cell_type": "code",
   "execution_count": 241,
   "id": "d49c2395",
   "metadata": {},
   "outputs": [
    {
     "name": "stdout",
     "output_type": "stream",
     "text": [
      "      checkouts                                              title\n",
      "6929         22  A Darker Shade of Magic: Shades of Magic Serie...\n",
      "2866         44  A place to call home. Season 4 / produced by F...\n",
      "6608         23  A room with a view / Janus Films ; Goldcrest ;...\n",
      "3768         29  A royal spring / by Kristen L. Depken ; illust...\n",
      "8355         24  Alexander and the terrible, horrible, no good,...\n",
      "...         ...                                                ...\n",
      "4670         29  When's my birthday? / Julie Fogliano ; Christi...\n",
      "4897         62  Where'd You Go, Bernadette: A Novel (unabridge...\n",
      "6901         80  Whiskey tango foxtrot / Paramount Pictures ; a...\n",
      "4607         29  Wolf Hall / a Playground Entertainment and Com...\n",
      "7250         76                                             Wonder\n",
      "\n",
      "[158 rows x 2 columns]\n"
     ]
    }
   ],
   "source": [
    "print(checkouts_df)"
   ]
  }
 ],
 "metadata": {
  "kernelspec": {
   "display_name": "Python 3 (ipykernel)",
   "language": "python",
   "name": "python3"
  },
  "language_info": {
   "codemirror_mode": {
    "name": "ipython",
    "version": 3
   },
   "file_extension": ".py",
   "mimetype": "text/x-python",
   "name": "python",
   "nbconvert_exporter": "python",
   "pygments_lexer": "ipython3",
   "version": "3.9.13"
  }
 },
 "nbformat": 4,
 "nbformat_minor": 5
}
